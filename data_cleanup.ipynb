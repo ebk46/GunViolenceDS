{
 "cells": [
  {
   "cell_type": "markdown",
   "metadata": {},
   "source": [
    "# This notebook cleans and filters the data\n",
    "Parse/convert the times from human readable to machine readable (e.g. \"after school lets out\" --> \"3:00PM\")\n",
    "Parse the addresses to City, Zipcode (when available), State, Country\n",
    "Use external lookup and custom city/state corrections to determine County for each address"
   ]
  },
  {
   "cell_type": "markdown",
   "metadata": {},
   "source": [
    "## Imports"
   ]
  },
  {
   "cell_type": "code",
   "execution_count": 1,
   "metadata": {},
   "outputs": [],
   "source": [
    "# Import dependencies\n",
    "import pandas as pd\n",
    "import numpy as np\n",
    "import os,sys\n",
    "import json\n",
    "import re\n",
    "import matplotlib.pyplot as plt\n",
    "from datetime import date, datetime\n",
    "import dateparser\n",
    "from pprint import pprint\n",
    "\n",
    "DATA_DIR = \"data\""
   ]
  },
  {
   "cell_type": "markdown",
   "metadata": {},
   "source": [
    "## Lookup for City->County and County->CountyFIPS matchings that have mismatching city names"
   ]
  },
  {
   "cell_type": "code",
   "execution_count": 2,
   "metadata": {},
   "outputs": [],
   "source": [
    "city_reps = {\"AR\": {\"Helena-West Helena\":\"West Helena\",\n",
    "                    \"DeWitt\":\"Dewitt\",\n",
    "                    \"Fargo\":\"Brinkley\"},\n",
    "            \"CA\": {\"South Whittier\":\"Whittier\",\n",
    "                   \"Florence-Graham\":\"Los Angeles\",\n",
    "                   \"San Antonio\":\"San Rafael\",\n",
    "                   \"Willowbrook\":\"Watts\",\n",
    "                   \"Florence-Graham\":\"Oakwood\"},\n",
    "            \"DE\": {\"Pennyhill\":\"Bear\"},\n",
    "            \"FL\": {\"Opa-locka\":\"Opa Locka\"},\n",
    "            \"GA\": {\"LaGrange\":\"Lagrange\"},\n",
    "            \"IA\": {\"DeWitt\":\"Dewitt\"},\n",
    "            \"IL\": {\"Glendale\":\"Cloverdale\",\n",
    "                   \"DeKalb\":\"Dekalb\"},\n",
    "            \"KS\": {\"Alta Mills\":\"Newton\"},\n",
    "            \"LA\": {\"Phoenix\":\"Buras\"},\n",
    "            \"MA\": {\"Manchester-by-the-Sea\":\"Manchester By The Sea\"},\n",
    "            \"MD\": {\"Greater Landover\":\"Landover\",\n",
    "                   \"Fair Hill\":\"Perryville\"},\n",
    "            \"MI\": {\"Mt Morris Township\":\"Mount Morris\",\n",
    "                   \"Calumet Twp\":\"Calumet\",\n",
    "                   \"Kalamazoo Twp\":\"Kalamazoo\",\n",
    "                   \"Charter Twp of Clinton\":\"Armada\",\n",
    "                   \"Bridgeport Charter Township\":\"Bridgeport\"},\n",
    "            \"MT\": {\"Bonner-West Riverside\":\"Bonner\"},\n",
    "            \"NC\": {\"McLeansville\":\"Mcleansville\",\n",
    "                   \"Feltonville\":\"Warrenton\"},\n",
    "            \"NJ\": {\"Lafayette Township\":\"Lafayette\",\n",
    "                   \"Bethlehem\":\"Califon\",\n",
    "                   \"Upper Deerfield Township\":\"Upper Deerfield Twp\",\n",
    "                   \"White\": \"Allamuchy\"},\n",
    "            \"NY\": {\"Hartland\":\"Burt\"},\n",
    "            \"OK\": {\"McAlester\":\"Mcalester\"},\n",
    "            \"PA\": {\"West Conshohocken\":\"Conshohocken\",\n",
    "                   \"McKeesport\":\"Mckeesport\",\n",
    "                   \"Bensalem Township\":\"Bensalem\",\n",
    "                   \"Wilkes-Barre\":\"Wilkes Barre\",\n",
    "                   \"Warwick Township\":\"Deodate\"},\n",
    "            \"SC\": {\"Dacusville\":\"Central\"},\n",
    "            \"TX\": {\"Falcon Mesa\":\"Falcon\"},\n",
    "            \"WI\": {\"DeForest\":\"De Forest\",\n",
    "                   \"Ashford\":\"Eden\",\n",
    "                   \"Mt Morris\":\"Coloma\"},\n",
    "            \"WV\": {\"Davis Creek\":\"Belle\"}\n",
    "            }\n",
    "\n",
    "county_reps = {\n",
    "            \"IL\": {\"DE WITT\": \"DEWITT\"}\n",
    "}"
   ]
  },
  {
   "cell_type": "markdown",
   "metadata": {},
   "source": [
    "## Create a map from (County Name) to (State and County FIPS IDs) so we can uniquely and universally reference counties in outside datasets\n",
    "\n",
    "Source: https://www.census.gov/geo/reference/codes/cou.html"
   ]
  },
  {
   "cell_type": "code",
   "execution_count": 3,
   "metadata": {},
   "outputs": [],
   "source": [
    "counties_fp_raw = pd.read_csv(os.path.join(DATA_DIR, \"national_county.txt\"), header=None, names=[\n",
    "    \"State\", \"StateFP\", \"CountyFP\", \"County\", \"ClassFP\"])\n",
    "counties_fp_map = {}\n",
    "for index, row in counties_fp_raw.iterrows():\n",
    "    state = row[\"State\"]\n",
    "    state_fp = str(row[\"StateFP\"])\n",
    "    county = row[\"County\"]\n",
    "    county_fp = str(row[\"CountyFP\"])\n",
    "    \n",
    "    state_fp = \"0\"*(2-len(state_fp)) + state_fp\n",
    "    county_fp = \"0\"*(3-len(county_fp)) + county_fp  \n",
    "    \n",
    "    county = county.upper() \\\n",
    "        .replace(\" COUNTY\", \"\") \\\n",
    "        .replace(\".\", \"\") \\\n",
    "        .replace(\"'\", \"\") \\\n",
    "        .replace(\"-\", \" \")\n",
    "    \n",
    "    if state in county_reps and county in county_reps[state]:\n",
    "        county = county_reps[state][county]\n",
    "    \n",
    "    if state not in counties_fp_map:\n",
    "        counties_fp_map[state] = {}\n",
    "        \n",
    "    counties_fp_map[state][county] = {\"state\":state_fp, \"county\":county_fp}"
   ]
  },
  {
   "cell_type": "markdown",
   "metadata": {},
   "source": [
    "## Create map from State/City to County using external data\n",
    "Source: https://github.com/grammakov/USA-cities-and-states/blob/master/us_cities_states_counties.csv"
   ]
  },
  {
   "cell_type": "code",
   "execution_count": 4,
   "metadata": {},
   "outputs": [],
   "source": [
    "counties_map_raw = pd.read_csv(os.path.join(DATA_DIR, \"us_cities_states_counties.csv\"), delimiter=\"|\")\n",
    "counties_map_raw = counties_map_raw.where((pd.notnull(counties_map_raw)), None)\n",
    "counties_fp_raw = counties_fp_raw.where((pd.notnull(counties_fp_raw)), None)\n",
    "\n",
    "counties_map = {}\n",
    "counties_map_alias = {}\n",
    "for index, row in counties_map_raw.iterrows():\n",
    "    state = row[\"State short\"]\n",
    "    city = row[\"City\"]\n",
    "    city_alias = row[\"City alias\"]\n",
    "    county_name = row[\"County\"]\n",
    "    \n",
    "    if not state or not county_name or state in [\"AE\", \"PW\", \"AS\", \"FM\", \"MP\", \"MH\"]:\n",
    "        continue\n",
    "    try:\n",
    "        q_county = [county_name, county_name.replace(\"-\", \" \"), \n",
    "                    county_name + \" CITY\", county_name.replace(\"SAINT \", \"ST \"),\n",
    "                    county_name.replace(\"SAINT \", \"ST \") + \" ISLAND\",\n",
    "                    county_name.replace(\"SAINT \", \"ST \") + \" PARISH\",\n",
    "                    county_name.replace(\"SAINTE \", \"STE \"),\n",
    "                    county_name + \" MUNICIPIO\", county_name + \" MUNICIPALITY\",\n",
    "                    county_name + \" CENSUS AREA\", county_name + \" BOROUGH\",\n",
    "                    county_name + \" CITY AND BOROUGH\",\n",
    "                    county_name + \" ISLAND\", county_name.replace(\" \", \"\")]\n",
    "    except:\n",
    "        print(county_name)\n",
    "    fp = None\n",
    "    for c in q_county:\n",
    "        if c in counties_fp_map[state]:\n",
    "            fp = counties_fp_map[state][c]\n",
    "            \n",
    "    if not fp:\n",
    "        print(state)\n",
    "        print(county_name)\n",
    "        continue\n",
    "        \n",
    "    state_fp = str(fp[\"state\"])\n",
    "    county_fp = str(fp[\"county\"])\n",
    "    state_fp = \"0\"*(2-len(state_fp)) + state_fp\n",
    "    county_fp = \"0\"*(3-len(county_fp)) + county_fp\n",
    "    \n",
    "    if state not in counties_map:\n",
    "        counties_map[state] = {}\n",
    "    if city not in counties_map[state]:\n",
    "        counties_map[state][city] = {\"county_name\":county_name, \"county_fp\":county_fp, \"state_fp\":state_fp}\n",
    "    \n",
    "    if state not in counties_map_alias:\n",
    "        counties_map_alias[state] = {}\n",
    "    if city_alias not in counties_map[state]:\n",
    "        counties_map_alias[state][city_alias] = {\"county_name\":county_name, \"county_fp\":county_fp, \"state_fp\":state_fp}\n"
   ]
  },
  {
   "cell_type": "markdown",
   "metadata": {},
   "source": [
    "## Create Map for County Lookup"
   ]
  },
  {
   "cell_type": "markdown",
   "metadata": {},
   "source": [
    "### Population"
   ]
  },
  {
   "cell_type": "code",
   "execution_count": 27,
   "metadata": {},
   "outputs": [],
   "source": [
    "pop_data_raw = pd.read_excel(os.path.join(DATA_DIR, \"Population_2010_2016.xls\"), skiprows=[0,1], header=0)\n",
    "county_data_map = {}\n",
    "for index, row in pop_data_raw.iterrows():\n",
    "    fp = str(row[\"FIPS\"])\n",
    "    fp = \"0\"*(5-len(fp)) + fp\n",
    "    state = row[\"State\"]\n",
    "    if state in [\"PR\"]:\n",
    "        continue\n",
    "    if county_fp not in county_data_map:\n",
    "        county_data_map[fp] = {}\n",
    "    if \"pop\" not in county_data_map[fp]:\n",
    "        county_data_map[fp][\"pop\"] = {}\n",
    "    pop_key = \"POP_ESTIMATE_\"\n",
    "    for y in range(2010, 2017):\n",
    "        pop = row[pop_key + str(y)]\n",
    "        county_data_map[fp][\"pop\"][y] = str(pop)\n",
    "    # Account for 2017 pop by adding half of the change from 2015-2016\n",
    "    pop_2016 = int(row[pop_key + \"2016\"])\n",
    "    est_chg_2017 = 0.5*int(row[\"N_POP_CHG_2016\"])\n",
    "    county_data_map[fp][\"pop\"][2017] = str(int(pop_2016 + est_chg_2017))"
   ]
  },
  {
   "cell_type": "markdown",
   "metadata": {},
   "source": [
    "### Land Size"
   ]
  },
  {
   "cell_type": "code",
   "execution_count": 32,
   "metadata": {},
   "outputs": [],
   "source": [
    "land_data_raw = pd.read_csv(os.path.join(DATA_DIR, \"2010 Geo Data.csv\"), encoding=\"ISO-8859-1\", skiprows=[0], header=0)\n",
    "for index, row in land_data_raw.iterrows():\n",
    "    fp = row[\"Target Geo Id2\"]\n",
    "    if np.isnan(fp):\n",
    "        fp = \"00000\"\n",
    "    fp = str(int(fp))\n",
    "    if len(fp) < 3:\n",
    "        fp = fp + \"000\"\n",
    "    fp = \"0\"*(5-len(fp)) + fp\n",
    "    if fp not in county_data_map:\n",
    "        county_data_map[fp] = {}\n",
    "    land = row[\"Area in square miles - Land area\"]\n",
    "    county_data_map[fp][\"land\"] = land"
   ]
  },
  {
   "cell_type": "markdown",
   "metadata": {},
   "source": [
    "### Population Density (Calculated)"
   ]
  },
  {
   "cell_type": "code",
   "execution_count": 67,
   "metadata": {},
   "outputs": [
    {
     "name": "stdout",
     "output_type": "stream",
     "text": [
      "Mean Density: 268\n",
      "# of Counties: 3192\n",
      "# of High Density Counties: 910\n"
     ]
    }
   ],
   "source": [
    "densities = []\n",
    "for fp, data in county_data_map.items():\n",
    "    if \"pop\" not in data or \"land\" not in data:\n",
    "        continue\n",
    "    pop_data = data[\"pop\"]\n",
    "    land = data[\"land\"]\n",
    "    pops = []\n",
    "    for y, pop in pop_data.items():\n",
    "        pops.append(int(pop))\n",
    "    mean_pop = np.mean(pops)\n",
    "    density = mean_pop / land\n",
    "    densities.append(density)\n",
    "    county_data_map[fp][\"pop_density\"] = density\n",
    "mean_density = np.mean(densities)\n",
    "high_density = [density for density in densities if density > 100]\n",
    "print(\"Mean Density: %d\" % int(mean_density))\n",
    "print(\"# of Counties: %d\" % len(densities))\n",
    "print(\"# of High Density Counties: %d\" % len(high_density))"
   ]
  },
  {
   "cell_type": "markdown",
   "metadata": {},
   "source": [
    "### Unemployment\n",
    "Represented as Unemployment Rate"
   ]
  },
  {
   "cell_type": "code",
   "execution_count": 44,
   "metadata": {},
   "outputs": [],
   "source": [
    "unemp_data_raw = pd.read_csv(os.path.join(DATA_DIR, \"unemployment.csv\"), encoding=\"ISO-8859-1\", header=0)\n",
    "for index, row in unemp_data_raw.iterrows():\n",
    "    state_fp = str(int(row[\"State\"]))\n",
    "    state_fp = \"0\"*(2-len(state_fp)) + state_fp\n",
    "    county_fp = str(int(row[\"County\"]))\n",
    "    county_fp = \"0\"*(3-len(county_fp)) + county_fp\n",
    "    fp = state_fp + county_fp\n",
    "    if fp not in county_data_map:\n",
    "        county_data_map[fp] = {}\n",
    "    if \"unemp\" not in county_data_map[fp]:\n",
    "        county_data_map[fp][\"unemp\"] = {}\n",
    "    for y in range(2010, 2018):\n",
    "        y_i = str(y) + \" UR\"\n",
    "        unemp = row[y_i]\n",
    "        county_data_map[fp][\"unemp\"][y] = unemp"
   ]
  },
  {
   "cell_type": "markdown",
   "metadata": {},
   "source": [
    "### Education\n",
    "Represented as (100 - Percent of adults with less than a high school diploma, 2012-2016)"
   ]
  },
  {
   "cell_type": "code",
   "execution_count": 84,
   "metadata": {},
   "outputs": [],
   "source": [
    "edu_data_raw = pd.read_csv(os.path.join(DATA_DIR, \"Education_12_16.csv\"), encoding=\"ISO-8859-1\", header=0)\n",
    "for index, row in edu_data_raw.iterrows():\n",
    "    fp = str(int(row[\"FIPS Code\"]))\n",
    "    fp = \"0\"*(5-len(fp)) + fp\n",
    "    edu = 100 - row[\"Percent of adults with less than a high school diploma, 2012-2016\"]\n",
    "    if fp not in county_data_map:\n",
    "        county_data_map[fp] = {}\n",
    "    county_data_map[fp][\"edu\"] = edu"
   ]
  },
  {
   "cell_type": "markdown",
   "metadata": {},
   "source": [
    "## Parse human-readable address and determine counties / FIPS IDs"
   ]
  },
  {
   "cell_type": "code",
   "execution_count": 6,
   "metadata": {},
   "outputs": [],
   "source": [
    "def parse_address(address):\n",
    "    if not address:\n",
    "        return None\n",
    "    a = [_.strip() for _ in address.split(\",\")]\n",
    "    cur = -1\n",
    "    country = a[cur]\n",
    "    cur -= 1\n",
    "    zcode = None\n",
    "    state = None\n",
    "    city = None\n",
    "    # State and Zip have no comma\n",
    "    if -cur <= len(a):\n",
    "        if len(a[cur]) > 5:\n",
    "            state_zip = a[cur].split(\" \")\n",
    "            if len(state_zip) == 2:\n",
    "                zcode = state_zip[1]\n",
    "                state = state_zip[0]\n",
    "                cur -= 1\n",
    "        # Has zip\n",
    "        elif len(a[cur]) > 2: \n",
    "            if -cur <= len(a):\n",
    "                zcode = a[cur]\n",
    "                cur -= 1\n",
    "            if -cur <= len(a):\n",
    "                state = a[cur]\n",
    "                cur -= 1\n",
    "        # Doesn't have zip\n",
    "        else:\n",
    "            if -cur <= len(a):\n",
    "                state = a[cur]\n",
    "                cur -= 1\n",
    "        \n",
    "    if -cur <= len(a):\n",
    "        city = a[cur]\n",
    "    \n",
    "    #### Get County ####\n",
    "    county = None\n",
    "    city_orig = city\n",
    "    \n",
    "    if city:\n",
    "        # Cleanup city name\n",
    "        if state in city_reps and city in city_reps[state]:\n",
    "            city = city_reps[state][city]\n",
    "\n",
    "        city = city.replace(\"St.\", \"Saint\")\n",
    "        city = city.replace(\"Ste.\", \"Sainte\")\n",
    "        city = city.replace(\"ñ\", \"n\")\n",
    "        city = city.replace(\"-\", \" \")\n",
    "        if city[:3] == \"Mt \":\n",
    "            city = \"Mount \" + city[3:]\n",
    "        if city[:3] == \"St \":\n",
    "            city = \"Saint \" + city[3:]\n",
    "\n",
    "        if state in counties_map:\n",
    "            if city in counties_map[state]:\n",
    "                county = counties_map[state][city]\n",
    "            elif city in counties_map_alias[state]:\n",
    "                county = counties_map_alias[state][city]\n",
    "\n",
    "    return county, city_orig, state, zcode, country"
   ]
  },
  {
   "cell_type": "markdown",
   "metadata": {},
   "source": [
    "## Parse time and convert to machine-readable format since the data is very unstructured and inconsistent"
   ]
  },
  {
   "cell_type": "code",
   "execution_count": 7,
   "metadata": {},
   "outputs": [],
   "source": [
    "def parse_time(fts, cts, recurse=True):\n",
    "    fine_time = \"\"\n",
    "    coarse_time = \"\"\n",
    "    orig_fts = fts\n",
    "    orig_cts = cts\n",
    "    \n",
    "    stop_chars = ['.', ',']\n",
    "    days = [\"monday\", \"tuesday\", \"wednesday\", \n",
    "            \"thursday\", \"friday\", \"saturday\", \"sunday\"]\n",
    "    \n",
    "    numbers = [\"one\", \"two\", \"three\", \"four\", \"five\", \"six\", \n",
    "               \"seven\", \"eight\", \"nine\", \"ten\", \"eleven\", \"twelve\"]\n",
    "    \n",
    "    # Get fine time from clock-time\n",
    "    fts = fts.lower()\n",
    "    fts = fts.replace(\"p. m.\", \"p.m.\")\n",
    "    fts = fts.replace(\"a.m.\", \"a.m.\")\n",
    "    fts = fts.strip()\n",
    "    fts = re.sub(r\"([0-9]+)\\.([0-9]+)\", r\"\\1:\\2\", fts)\n",
    "    fts = re.sub(r\"([0-9]+)[ ]*\\:[ ]*([0-9]+)\", r\"\\1:\\2\", fts)\n",
    "    for i, number in enumerate(numbers):\n",
    "        fts = fts.replace(number, str(i+1))\n",
    "    \n",
    "    while fts and not fts[0].isdigit():\n",
    "        fts = fts[1:]\n",
    "    if fts:\n",
    "        try:\n",
    "            fine_time = dateparser.parse(fts).time()\n",
    "        except:\n",
    "            # Just keep going if you couldn't figure it out\n",
    "            _ = True\n",
    "            #print(\"Fine Time Parse Error 1: '\" + orig_fts + \"'  |  '\" + orig_cts + \"'\")\n",
    "        \n",
    "    # Get coarse time from time-day\n",
    "    cts = cts.lower()\n",
    "    coarse_time = datetime.now().replace(hour=0, minute=0, second=0, microsecond=0)\n",
    "    \n",
    "    for day in days:\n",
    "        cts = cts.replace(day, '')\n",
    "    for c in stop_chars:\n",
    "        cts = cts.replace(c, '')\n",
    "    cts = cts.replace('  ', ' ')\n",
    "    cts = cts.strip()\n",
    "    if cts == \"\":\n",
    "        coarse_time = \"\"\n",
    "    elif cts in [\"early morning\", \"dawn\"] or \\\n",
    "        (\"early\" in cts and \"morning\" in cts) or \"wake\" in cts:\n",
    "        coarse_time = coarse_time.replace(hour=7)\n",
    "    elif (\"early\" in cts and \"afternoon\" in \"cts\") or \"noon\" in cts or \"lunchtime\" in cts:\n",
    "        coarse_time = coarse_time.replace(hour=12)\n",
    "    elif cts in [\"morning\", \"am\", \"am\", \"early\"]:\n",
    "        coarse_time = coarse_time.replace(hour=10)\n",
    "    elif cts in [\"afternoon\", \"pm\", \"mid-day\", \"midday\"] or \"after school\" in cts:\n",
    "        coarse_time = coarse_time.replace(hour=15)\n",
    "    elif cts in [\"night\", \"evening\", \"late\"] or \"night\" in cts or \"nigh\" in cts \\\n",
    "        or \"after business\" in cts or \"dinnertime\" in cts:\n",
    "        coarse_time = coarse_time.replace(hour=21)\n",
    "    elif cts == \"midnight\" or \"midnight\" in cts:\n",
    "        coarse_time = coarse_time.replace(hour=0)\n",
    "    elif cts in [\"overnight\", \"before dawn\"]:\n",
    "        #TODO: Make this the next day (maybe that doesn't matter)\n",
    "        # .    Could be good enough to indicate \"3am\" or something\n",
    "        # .    since the day doesn't matter when examining time of day\n",
    "        # .    as an independent factor\n",
    "        coarse_time = coarse_time.replace(hour=3)\n",
    "    # Repeat this later in the priority list in case we hit \"early afternoon\" or something\n",
    "    elif \"early\" in cts:\n",
    "        coarse_time = coarse_time.replace(hour=10)\n",
    "    else:\n",
    "        coarse_time = \"\"\n",
    "        if not fine_time:\n",
    "            while cts and not cts[0].isdigit():\n",
    "                cts = cts[1:]\n",
    "            if cts:\n",
    "                try:\n",
    "                    fine_time = dateparser.parse(cts).time()\n",
    "                except:\n",
    "                    # Just keep going if you couldn't figure it out\n",
    "                    _ = True\n",
    "                    #print(\"Coarse Time Parse Error 1: '\" + orig_fts + \"'  |  '\" + orig_cts + \"'\")\n",
    "    # If no time was found, switch the two and try to parse\n",
    "    # This helps because sometimes the coarse time has something like \"2 a.m\" \n",
    "    # and the fine time has something like \"midnight\"\n",
    "    if coarse_time:\n",
    "        coarse_time = coarse_time.time()\n",
    "    if recurse and not fine_time and not coarse_time:\n",
    "        fine_time, coarse_time = parse_time(orig_cts, orig_fts, recurse=False)\n",
    "    return fine_time, coarse_time"
   ]
  },
  {
   "cell_type": "markdown",
   "metadata": {},
   "source": [
    "## Read data and use parsers to clean it up"
   ]
  },
  {
   "cell_type": "code",
   "execution_count": 68,
   "metadata": {},
   "outputs": [],
   "source": [
    "events_raw = pd.read_csv(os.path.join(DATA_DIR, \"Events.tsv\"), delimiter=\"\\t\")\n",
    "events_raw.columns = [\"Address\", \"Date\", \"Details\", \"Participants\"]\n",
    "events = pd.DataFrame(columns=[\"Address\", \"Details\", \"Country\", \"State\", \"StateFP\",\n",
    "                               \"County\",\"CountyFP\", \"City\", \"Zipcode\", \n",
    "                               #\"Population\", \"Land Area\", \"Population Density\",\n",
    "                               \"Date\", \"Fine Time\", \"Coarse Time\", \n",
    "                               \"Shots Fired\", \"Gun Type\", \"Participants\"])\n",
    "\n",
    "events[\"Date\"] = events.Date.astype(datetime)\n",
    "events[\"Zipcode\"] = events.Zipcode.astype(int)\n",
    "for index, event in events_raw.iterrows():\n",
    "    new_event = {}\n",
    "    new_event[\"Address\"] = event[\"Address\"]\n",
    "    county, city, state, zcode, country = parse_address(event[\"Address\"])\n",
    "    new_event[\"Country\"] = country\n",
    "    new_event[\"State\"] = state\n",
    "    new_event[\"City\"] = city\n",
    "    new_event[\"Zipcode\"] = zcode\n",
    "    \n",
    "    new_event[\"Date\"] = datetime.strptime(event[\"Date\"][:-6], \n",
    "                                          \"%Y-%m-%d %H:%M:%S\").date()\n",
    "    # Incorrect date entry\n",
    "    if new_event[\"Date\"].year == 2026:\n",
    "        new_event[\"Date\"] = new_event[\"Date\"].replace(year=2016)\n",
    "        \n",
    "    if county:\n",
    "        county_fp = county[\"county_fp\"]\n",
    "        state_fp = county[\"state_fp\"]\n",
    "        new_event[\"StateFP\"] = state_fp\n",
    "        new_event[\"County\"] = county[\"county_name\"]\n",
    "        new_event[\"CountyFP\"] = county_fp\n",
    "        year = new_event[\"Date\"].year\n",
    "    \n",
    "        '''\n",
    "        if year >= 2010 and year <= 2017:\n",
    "            fp = str(state_fp) + str(county_fp)\n",
    "            fp = \"0\"*(5-len(fp)) + fp\n",
    "            new_event[\"Population\"] = county_data_map[fp][\"pop\"][year]\n",
    "            new_event[\"Land Area\"] = county_data_map[fp][\"land\"]\n",
    "            new_event[\"Population Density\"] = county_data_map[fp][\"pop_density\"]            \n",
    "            new_event[\"Education\"]\n",
    "        '''\n",
    "        \n",
    "    event_details = json.loads(event[\"Details\"])\n",
    "    fine_time, coarse_time = parse_time(event_details[\"clock-time\"][\"value\"], \n",
    "                                    event_details[\"time-day\"][\"value\"])\n",
    "    new_event[\"Details\"] = event_details[\"details\"][\"value\"]\n",
    "    new_event[\"Fine Time\"] = fine_time\n",
    "    new_event[\"Coarse Time\"] = coarse_time\n",
    "    new_event[\"Shots Fired\"] = event_details[\"number-of-shots-fired\"][\"value\"]\n",
    "    new_event[\"Gun Type\"] = event_details[\"type-of-gun\"][\"value\"]\n",
    "    new_event[\"Participants\"] = event[\"Participants\"]\n",
    "    events = events.append(new_event, ignore_index=True)"
   ]
  },
  {
   "cell_type": "markdown",
   "metadata": {},
   "source": [
    "## Plot data to determine how to filter"
   ]
  },
  {
   "cell_type": "code",
   "execution_count": 9,
   "metadata": {},
   "outputs": [],
   "source": [
    "# Collect data on dates and times of shootings\n",
    "# Prefer Fine Time to Coarse Time if the record has it\n",
    "event_dates = []\n",
    "event_times = []\n",
    "for index, event in events.iterrows():\n",
    "    event_dates.append(event[\"Date\"])\n",
    "    if event[\"Fine Time\"]:\n",
    "        event_times.append(event[\"Fine Time\"])\n",
    "    else:\n",
    "        event_times.append(event[\"Coarse Time\"])"
   ]
  },
  {
   "cell_type": "code",
   "execution_count": 10,
   "metadata": {},
   "outputs": [
    {
     "name": "stdout",
     "output_type": "stream",
     "text": [
      "3524 total events\n",
      "942 events with no time\n"
     ]
    }
   ],
   "source": [
    "# Create bar charts of # events by year and # events by time of day\n",
    "num_events_by_year = []\n",
    "years = range(2000, 2018)\n",
    "for year in years:\n",
    "    start = date(year, 1, 1)\n",
    "    end = date(year, 12,31)\n",
    "    events_in_year = len([d for d in event_dates if d >= start and d <= end])\n",
    "    num_events_by_year.append(events_in_year)\n",
    "    \n",
    "num_events_by_tod = []\n",
    "time_ranges = [(0, 6), (6, 12), (12, 18), (18, 0)]\n",
    "for tr in time_ranges:\n",
    "    start = datetime.now().replace(hour=tr[0], minute=0, second=0, microsecond=0).time()\n",
    "    end = datetime.now().replace(hour=(tr[1]-1) % 24, minute=59, second=59, microsecond=0).time()\n",
    "    events_in_time_range = len([t for t in event_times if t and t >= start and t <= end])\n",
    "    num_events_by_tod.append(events_in_time_range)\n",
    "    \n",
    "num_empty_times = len([t for t in event_times if not t])\n",
    "\n",
    "print(\"%d total events\" % len(event_times))\n",
    "print(\"%d events with no time\" % num_empty_times)"
   ]
  },
  {
   "cell_type": "code",
   "execution_count": 11,
   "metadata": {},
   "outputs": [
    {
     "data": {
      "text/plain": [
       "Text(0,0.5,'Number of Gun Violence Events')"
      ]
     },
     "execution_count": 11,
     "metadata": {},
     "output_type": "execute_result"
    },
    {
     "data": {
      "image/png": "[encoded data removed]",
      "text/plain": [
       "<Figure size 936x360 with 2 Axes>"
      ]
     },
     "metadata": {},
     "output_type": "display_data"
    }
   ],
   "source": [
    "# Show the graphs\n",
    "fig, ax = plt.subplots(1, 2, figsize=(13, 5))\n",
    "ax[0].bar(years, num_events_by_year, tick_label=[str(year) if i % 3 == 0 else \"\" for i, year in enumerate(years)])\n",
    "ax[0].set_title(\"Number of Gun Violence Events by Year\")\n",
    "ax[0].set_xlabel(\"Year\")\n",
    "ax[0].set_ylabel(\"Number of Gun Violence Events\")\n",
    "\n",
    "ax[1].bar([tr[0] for tr in time_ranges], num_events_by_tod, width=4,\n",
    "        tick_label=[\"0:00-5:59\", \"6:00-11:59\", \"12:00-17:59\", \"18:00-23:59\"])\n",
    "ax[1].set_title(\"Number of Gun Violence Events by Time of Day\")\n",
    "ax[1].set_xlabel(\"Time of Day (24H)\")\n",
    "ax[1].set_ylabel(\"Number of Gun Violence Events\")"
   ]
  },
  {
   "cell_type": "markdown",
   "metadata": {},
   "source": [
    "The first graph indicates that our data is very heavily biased towards more recent events, and specifically 2016. No other data source cites a climb in gun violence of 800% from 2014 to 2016, so this bias is likely from more recent reports being available, or the data collection process.\n",
    "\n",
    "The second graph indicates that between 6PM and midnight is the most likely time for gun violence to occur. It is roughly twice as likely in that time range than in any other."
   ]
  },
  {
   "cell_type": "markdown",
   "metadata": {},
   "source": [
    "## Filter such that we take only data from US after 2010\n",
    "The data outside the US is extremely sparse and would not contribute to our work\n",
    "\n",
    "The most recent census is from 2010 and removing data from before 2010 does not significantly impact our sample size. In addition, data from too long ago introduces a variable that we don't have enough data to account for (e.g. changes across decades)"
   ]
  },
  {
   "cell_type": "code",
   "execution_count": 12,
   "metadata": {},
   "outputs": [],
   "source": [
    "usa_indices = []\n",
    "date_2010 = date(2010, 1, 1)\n",
    "for index, event in events.iterrows():\n",
    "    address = event[\"Address\"]\n",
    "    if address.endswith(\"USA\") and event[\"Date\"] > date_2010:\n",
    "        usa_indices.append(index)\n",
    "usa_events = events.iloc[usa_indices]"
   ]
  },
  {
   "cell_type": "markdown",
   "metadata": {},
   "source": [
    "### Write data to files"
   ]
  },
  {
   "cell_type": "code",
   "execution_count": 13,
   "metadata": {},
   "outputs": [],
   "source": [
    "# Write clean data to CSV\n",
    "usa_events.to_csv(os.path.join(DATA_DIR, \"Events_USA_2010.tsv\"), sep=\"\\t\")"
   ]
  },
  {
   "cell_type": "code",
   "execution_count": 89,
   "metadata": {},
   "outputs": [],
   "source": [
    "# Write county data to JSON\n",
    "with open(os.path.join(DATA_DIR, \"county_data.json\"), 'w') as _:\n",
    "    json.dump(county_data_map, _)"
   ]
  },
  {
   "cell_type": "code",
   "execution_count": null,
   "metadata": {},
   "outputs": [],
   "source": []
  },
  {
   "cell_type": "code",
   "execution_count": null,
   "metadata": {},
   "outputs": [],
   "source": []
  }
 ],
 "metadata": {
  "kernelspec": {
   "display_name": "Python 3",
   "language": "python",
   "name": "python3"
  },
  "language_info": {
   "codemirror_mode": {
    "name": "ipython",
    "version": 3
   },
   "file_extension": ".py",
   "mimetype": "text/x-python",
   "name": "python",
   "nbconvert_exporter": "python",
   "pygments_lexer": "ipython3",
   "version": "3.6.4"
  }
 },
 "nbformat": 4,
 "nbformat_minor": 2
}
