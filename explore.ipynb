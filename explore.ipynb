{
 "cells": [
  {
   "cell_type": "markdown",
   "metadata": {},
   "source": [
    "# This notebook is designed to explore the data"
   ]
  },
  {
   "cell_type": "markdown",
   "metadata": {},
   "source": [
    "## Imports"
   ]
  },
  {
   "cell_type": "code",
   "execution_count": 2,
   "metadata": {},
   "outputs": [],
   "source": [
    "# Import dependencies\n",
    "import pandas as pd\n",
    "import numpy as np\n",
    "import os,sys\n",
    "import json\n",
    "import re\n",
    "import matplotlib.pyplot as plt\n",
    "from datetime import date, datetime\n",
    "import dateparser\n",
    "from pprint import pprint\n",
    "\n",
    "DATA_DIR = \"data\""
   ]
  },
  {
   "cell_type": "markdown",
   "metadata": {},
   "source": [
    "## Small Helper Functions"
   ]
  },
  {
   "cell_type": "code",
   "execution_count": 3,
   "metadata": {},
   "outputs": [],
   "source": [
    "def to_date(d):\n",
    "    return datetime.strptime(d, \"%Y-%m-%d\").date()\n",
    "\n",
    "def to_time(t):\n",
    "    return datetime.strptime(t[:8], \"%H:%M:%S\").time()"
   ]
  },
  {
   "cell_type": "markdown",
   "metadata": {},
   "source": [
    "## Load clean data and county data"
   ]
  },
  {
   "cell_type": "code",
   "execution_count": 4,
   "metadata": {},
   "outputs": [],
   "source": [
    "events = pd.read_csv(os.path.join(DATA_DIR, \"Events_USA_2010.tsv\"), delimiter=\"\\t\")\n",
    "events = events.where((pd.notnull(events)), None)\n",
    "with open(os.path.join(DATA_DIR, \"county_data.json\"), 'r') as _:\n",
    "    county_data = json.load(_)"
   ]
  },
  {
   "cell_type": "markdown",
   "metadata": {},
   "source": [
    "## Plot dates/times of shootings from the clean data"
   ]
  },
  {
   "cell_type": "code",
   "execution_count": 79,
   "metadata": {},
   "outputs": [],
   "source": [
    "# Collect data on dates and times of shootings\n",
    "# Prefer Fine Time to Coarse Time if the record has it\n",
    "event_dates = []\n",
    "event_times = []\n",
    "for index, event in events.iterrows():\n",
    "    event_dates.append(to_date(event[\"Date\"]))\n",
    "    if event[\"Fine Time\"]:\n",
    "        event_times.append(to_time(event[\"Fine Time\"]))\n",
    "    elif event[\"Coarse Time\"]:\n",
    "        event_times.append(to_time(event[\"Coarse Time\"]))\n",
    "    else:\n",
    "        event_times.append(None)"
   ]
  },
  {
   "cell_type": "code",
   "execution_count": 80,
   "metadata": {},
   "outputs": [
    {
     "name": "stdout",
     "output_type": "stream",
     "text": [
      "2966 total events\n",
      "638 events with no time\n"
     ]
    }
   ],
   "source": [
    "# Create bar charts of # events by year and # events by time of day\n",
    "num_events_by_year = []\n",
    "years = range(2010, 2018)\n",
    "for year in years:\n",
    "    start = date(year, 1, 1)\n",
    "    end = date(year, 12,31)\n",
    "    events_in_year = len([d for d in event_dates if d >= start and d <= end])\n",
    "    num_events_by_year.append(events_in_year)\n",
    "    \n",
    "num_events_by_tod = []\n",
    "time_ranges = [(0, 6), (6, 12), (12, 18), (18, 0)]\n",
    "for tr in time_ranges:\n",
    "    start = datetime.now().replace(hour=tr[0], minute=0, second=0, microsecond=0).time()\n",
    "    end = datetime.now().replace(hour=(tr[1]-1) % 24, minute=59, second=59, microsecond=0).time()\n",
    "    events_in_time_range = len([t for t in event_times if t and t >= start and t <= end])\n",
    "    num_events_by_tod.append(events_in_time_range)\n",
    "    \n",
    "num_empty_times = len([t for t in event_times if not t])\n",
    "\n",
    "print(\"%d total events\" % len(event_times))\n",
    "print(\"%d events with no time\" % num_empty_times)"
   ]
  },
  {
   "cell_type": "code",
   "execution_count": 81,
   "metadata": {},
   "outputs": [
    {
     "data": {
      "text/plain": [
       "Text(0,0.5,'Number of Gun Violence Events')"
      ]
     },
     "execution_count": 81,
     "metadata": {},
     "output_type": "execute_result"
    },
    {
     "data": {
      "image/png": "[encoded data removed]",
      "text/plain": [
       "<Figure size 936x360 with 2 Axes>"
      ]
     },
     "metadata": {},
     "output_type": "display_data"
    }
   ],
   "source": [
    "# Show the graphs\n",
    "fig, ax = plt.subplots(1, 2, figsize=(13, 5))\n",
    "ax[0].bar(years, num_events_by_year, tick_label=[str(year) if i % 3 == 0 else \"\" for i, year in enumerate(years)])\n",
    "ax[0].set_title(\"Number of Gun Violence Events by Year\")\n",
    "ax[0].set_xlabel(\"Year\")\n",
    "ax[0].set_ylabel(\"Number of Gun Violence Events\")\n",
    "\n",
    "ax[1].bar([tr[0] for tr in time_ranges], num_events_by_tod, width=4,\n",
    "        tick_label=[\"0:00-5:59\", \"6:00-11:59\", \"12:00-17:59\", \"18:00-23:59\"])\n",
    "ax[1].set_title(\"Number of Gun Violence Events by Time of Day\")\n",
    "ax[1].set_xlabel(\"Time of Day (24H)\")\n",
    "ax[1].set_ylabel(\"Number of Gun Violence Events\")"
   ]
  },
  {
   "cell_type": "markdown",
   "metadata": {},
   "source": [
    "The first graph indicates that our data is very heavily biased towards more recent events, and specifically 2016. No other data source cites a climb in gun violence of 800% from 2014 to 2016, so this bias is likely from more recent reports being available, or the data collection process.\n",
    "\n",
    "The second graph indicates that between 6PM and midnight is the most likely time for gun violence to occur. It is roughly twice as likely in that time range than in any other."
   ]
  },
  {
   "cell_type": "markdown",
   "metadata": {},
   "source": [
    "## Determine how many counties are represented in our data\n",
    "There are 3007 counties in the United States"
   ]
  },
  {
   "cell_type": "code",
   "execution_count": 87,
   "metadata": {},
   "outputs": [
    {
     "name": "stdout",
     "output_type": "stream",
     "text": [
      "877\n"
     ]
    }
   ],
   "source": [
    "counties = {}\n",
    "for index, event in events.iterrows():\n",
    "    state = event[\"StateFP\"]\n",
    "    county = event[\"CountyFP\"]\n",
    "    if state not in counties:\n",
    "        counties[state] = {}\n",
    "    counties[state][county] = counties[state].get(county, 0) + 1\n",
    "num_counties = sum([len(c) for i,c in counties.items()])\n",
    "print(num_counties)"
   ]
  },
  {
   "cell_type": "code",
   "execution_count": null,
   "metadata": {},
   "outputs": [],
   "source": []
  }
 ],
 "metadata": {
  "kernelspec": {
   "display_name": "Python 3",
   "language": "python",
   "name": "python3"
  },
  "language_info": {
   "codemirror_mode": {
    "name": "ipython",
    "version": 3
   },
   "file_extension": ".py",
   "mimetype": "text/x-python",
   "name": "python",
   "nbconvert_exporter": "python",
   "pygments_lexer": "ipython3",
   "version": "3.6.4"
  }
 },
 "nbformat": 4,
 "nbformat_minor": 2
}
